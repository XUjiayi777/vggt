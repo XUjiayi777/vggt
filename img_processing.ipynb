{
 "cells": [
  {
   "cell_type": "code",
   "execution_count": 2,
   "metadata": {},
   "outputs": [],
   "source": [
    "import cv2\n",
    "import tempfile\n",
    "import glob\n",
    "import shutil\n",
    "import time\n",
    "import os"
   ]
  },
  {
   "cell_type": "code",
   "execution_count": null,
   "metadata": {},
   "outputs": [],
   "source": [
    "def video_2_images(video_path,output_folder):\n",
    "    if os.path.isdir(video_path):\n",
    "        img_paths = sorted(glob.glob(f\"{video_path}/*\"))\n",
    "        tmpdirname = None\n",
    "    else:\n",
    "        cap = cv2.VideoCapture(video_path)\n",
    "        if not cap.isOpened():\n",
    "            raise ValueError(f\"Error opening video file {video_path}\")\n",
    "        video_fps = cap.get(cv2.CAP_PROP_FPS)\n",
    "        total_frames = int(cap.get(cv2.CAP_PROP_FRAME_COUNT))\n",
    "        if video_fps == 0:\n",
    "            cap.release()\n",
    "            raise ValueError(f\"Error: Video FPS is 0 for {video_path}\")\n",
    "        frame_interval = int(video_fps)\n",
    "        frame_indices = list(range(0, total_frames, frame_interval))\n",
    "        print(\n",
    "            f\" - Video FPS: {video_fps}, Total frames: {total_frames}, Frame Interval: {frame_interval}, Total Frames to Read: {len(frame_indices)}\"\n",
    "        )\n",
    "        img_lists = []\n",
    "        for i in range(len(frame_indices)):\n",
    "            cap.set(cv2.CAP_PROP_POS_FRAMES, frame_indices[i])\n",
    "            ret, frame = cap.read()\n",
    "            if not ret:\n",
    "                break\n",
    "            frame_path = os.path.join(output_folder, f\"frame_{i}.jpg\")\n",
    "            cv2.imwrite(frame_path, frame)\n",
    "            img_lists.append(frame_path)\n",
    "        cap.release()\n",
    "    return img_lists"
   ]
  },
  {
   "cell_type": "code",
   "execution_count": 6,
   "metadata": {},
   "outputs": [
    {
     "name": "stdout",
     "output_type": "stream",
     "text": [
      " - Video FPS: 29.97, Total frames: 599, Frame Interval: 29, Total Frames to Read: 21\n"
     ]
    }
   ],
   "source": [
    "video_name=\"P1010835_20-40_src\"\n",
    "dataset_name=\"water\"\n",
    "video_path=f\"water_data/{video_name}.mp4\"\n",
    "output_folder=f\"img_processed/{dataset_name}/{video_name}/images\"\n",
    "os.makedirs(output_folder, exist_ok=True)\n",
    "img_lists=video_2_images(video_path,output_folder,1)"
   ]
  }
 ],
 "metadata": {
  "kernelspec": {
   "display_name": "vggt",
   "language": "python",
   "name": "python3"
  },
  "language_info": {
   "codemirror_mode": {
    "name": "ipython",
    "version": 3
   },
   "file_extension": ".py",
   "mimetype": "text/x-python",
   "name": "python",
   "nbconvert_exporter": "python",
   "pygments_lexer": "ipython3",
   "version": "3.12.11"
  }
 },
 "nbformat": 4,
 "nbformat_minor": 2
}
