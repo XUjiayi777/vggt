{
 "cells": [
  {
   "cell_type": "code",
   "execution_count": 3,
   "id": "fac2b237",
   "metadata": {},
   "outputs": [
    {
     "name": "stdout",
     "output_type": "stream",
     "text": [
      "Resolution: 5187 x 3361\n",
      "Width: 5187, Height: 3361\n",
      "Resolution (Image 2): 648 x 420\n",
      "Width (Image 2): 648, Height (Image 2): 420\n"
     ]
    }
   ],
   "source": [
    "from PIL import Image\n",
    "\n",
    "# Open an image file\n",
    "img = Image.open('/data/jxucm/mip_nerf_360/garden/images/DSC07956.JPG')\n",
    "img_2 = Image.open('/data/jxucm/mip_nerf_360/garden/images_8/DSC07956.JPG')\n",
    "\n",
    "# Get dimensions\n",
    "width, height = img.size\n",
    "print(f\"Resolution: {width} x {height}\")\n",
    "\n",
    "# Alternative way\n",
    "print(f\"Width: {img.width}, Height: {img.height}\")\n",
    "\n",
    "# Get dimensions for the second image\n",
    "width_2, height_2 = img_2.size\n",
    "print(f\"Resolution (Image 2): {width_2} x {height_2}\")\n",
    "\n",
    "# Alternative way\n",
    "print(f\"Width (Image 2): {img_2.width}, Height (Image 2): {img_2.height}\")"
   ]
  }
 ],
 "metadata": {
  "kernelspec": {
   "display_name": "vggt",
   "language": "python",
   "name": "python3"
  },
  "language_info": {
   "codemirror_mode": {
    "name": "ipython",
    "version": 3
   },
   "file_extension": ".py",
   "mimetype": "text/x-python",
   "name": "python",
   "nbconvert_exporter": "python",
   "pygments_lexer": "ipython3",
   "version": "3.12.11"
  }
 },
 "nbformat": 4,
 "nbformat_minor": 5
}
